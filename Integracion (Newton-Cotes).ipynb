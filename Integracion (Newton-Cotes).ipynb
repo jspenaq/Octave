{
 "cells": [
  {
   "cell_type": "markdown",
   "metadata": {},
   "source": [
    "# Newton-Cotes"
   ]
  },
  {
   "cell_type": "markdown",
   "metadata": {},
   "source": [
    "Calcular $\\int_0^{\\pi/30} sin(x) \\,dx$"
   ]
  },
  {
   "cell_type": "code",
   "execution_count": 1,
   "metadata": {},
   "outputs": [],
   "source": [
    "function y = f(x)\n",
    "y = sin(x);\n",
    "end"
   ]
  },
  {
   "cell_type": "markdown",
   "metadata": {},
   "source": [
    "### Regla del Trapecio"
   ]
  },
  {
   "cell_type": "code",
   "execution_count": 2,
   "metadata": {},
   "outputs": [],
   "source": [
    "function IT = i_trapecio(a, b)\n",
    "format long\n",
    "h = (b-a)/1;\n",
    "x0 = a;\n",
    "x1 = b; # Equivale a a+h\n",
    "f0 = f(x0);\n",
    "f1 = f(x1);\n",
    "\n",
    "I = h/2 * (f0 + f1);\n",
    "IT = I;\n",
    "end"
   ]
  },
  {
   "cell_type": "code",
   "execution_count": 3,
   "metadata": {},
   "outputs": [
    {
     "name": "stdout",
     "output_type": "stream",
     "text": [
      "ans =  0.00547309753821151\n"
     ]
    }
   ],
   "source": [
    "i_trapecio(0, pi/30)"
   ]
  },
  {
   "cell_type": "markdown",
   "metadata": {},
   "source": [
    "### Regla de Simpson"
   ]
  },
  {
   "cell_type": "code",
   "execution_count": 4,
   "metadata": {},
   "outputs": [],
   "source": [
    "function IS = i_simpson(a, b)\n",
    "format long\n",
    "h = (b-a)/2;\n",
    "x0 = a;\n",
    "x1 = a+h;\n",
    "x2 = b;\n",
    "f0 = f(x0);\n",
    "f1 = f(x1);\n",
    "f2 = f(x2);\n",
    "\n",
    "I = h/3 * (f0 + 4*f1 + f2);\n",
    "IS = I;\n",
    "end"
   ]
  },
  {
   "cell_type": "code",
   "execution_count": 5,
   "metadata": {},
   "outputs": [
    {
     "name": "stdout",
     "output_type": "stream",
     "text": [
      "ans =  0.00547810486054671\n"
     ]
    }
   ],
   "source": [
    "i_simpson(0, pi/30)"
   ]
  },
  {
   "cell_type": "markdown",
   "metadata": {},
   "source": [
    "### Regla de Simpson 3/8"
   ]
  },
  {
   "cell_type": "code",
   "execution_count": 6,
   "metadata": {},
   "outputs": [],
   "source": [
    "function IS_3_8 = i_simp_3_8(a, b)\n",
    "format long\n",
    "h = (b-a)/3;\n",
    "x0 = a;\n",
    "x1 = a+h;\n",
    "x2 = a+2*h;\n",
    "x3 = b;\n",
    "f0 = f(x0);\n",
    "f1 = f(x1);\n",
    "f2 = f(x2);\n",
    "f3 = f(x3);\n",
    "\n",
    "I = 3*h/8 * (f0 + 3*f1 + 3*f2 + f3);\n",
    "IS_3_8 = I;\n",
    "end"
   ]
  },
  {
   "cell_type": "code",
   "execution_count": 7,
   "metadata": {},
   "outputs": [
    {
     "name": "stdout",
     "output_type": "stream",
     "text": [
      "ans =  0.00547810473342077\n"
     ]
    }
   ],
   "source": [
    "i_simp_3_8(0, pi/30)"
   ]
  },
  {
   "cell_type": "markdown",
   "metadata": {},
   "source": [
    "### Regla de Boole"
   ]
  },
  {
   "cell_type": "code",
   "execution_count": 8,
   "metadata": {},
   "outputs": [],
   "source": [
    "function IB = i_boole(a, b)\n",
    "format long\n",
    "h = (b-a)/4;\n",
    "x0 = a;\n",
    "x1 = a+h;\n",
    "x2 = a+2*h;\n",
    "x3 = a+3*h;\n",
    "x4 = b;\n",
    "f0 = f(x0);\n",
    "f1 = f(x1);\n",
    "f2 = f(x2);\n",
    "f3 = f(x3);\n",
    "f4 = f(x4);\n",
    "\n",
    "I = 2*h/45 * (7*f0 + 32*f1 + 12*f2 + 32*f3 + 7*f4);\n",
    "IB = I;\n",
    "end"
   ]
  },
  {
   "cell_type": "code",
   "execution_count": 9,
   "metadata": {},
   "outputs": [
    {
     "name": "stdout",
     "output_type": "stream",
     "text": [
      "ans =  0.00547810463172293\n"
     ]
    }
   ],
   "source": [
    "i_boole(0, pi/30)"
   ]
  },
  {
   "cell_type": "markdown",
   "metadata": {},
   "source": [
    "## Reglas compuestas"
   ]
  },
  {
   "cell_type": "code",
   "execution_count": 10,
   "metadata": {},
   "outputs": [],
   "source": [
    "function [I_t, I_s, I_s_3_8, I_b] = integral(A, B, n)\n",
    "    % n es el numero de intervalos\n",
    "    w = (B-A)/n;\n",
    "    i_t = 0;\n",
    "    i_s = 0;\n",
    "    i_s_3_8 = 0;\n",
    "    i_b = 0;\n",
    "\n",
    "        for i = 0:1:n-1\n",
    "            a = A + i*w;\n",
    "            b = a + w;\n",
    "            i_t += i_trapecio(a,b);\n",
    "            i_s += i_simpson(a,b);\n",
    "            i_s_3_8 += i_simp_3_8(a,b);\n",
    "            i_b += i_boole(a,b);\n",
    "        end\n",
    "\n",
    "    I_t = i_t\n",
    "    I_s = i_s\n",
    "    I_s_3_8 = i_s_3_8\n",
    "    I_b = i_b\n",
    "end"
   ]
  },
  {
   "cell_type": "code",
   "execution_count": 11,
   "metadata": {},
   "outputs": [
    {
     "name": "stdout",
     "output_type": "stream",
     "text": [
      "I_t =  0.00547805456985222\n",
      "I_s =  0.00547810463174954\n",
      "I_s_3_8 =  0.00547810463173683\n",
      "I_b =  0.00547810463172666\n"
     ]
    }
   ],
   "source": [
    "integral(0, pi/30, 10);"
   ]
  }
 ],
 "metadata": {
  "kernelspec": {
   "display_name": "Octave",
   "language": "octave",
   "name": "octave"
  },
  "language_info": {
   "file_extension": ".m",
   "help_links": [
    {
     "text": "GNU Octave",
     "url": "https://www.gnu.org/software/octave/support.html"
    },
    {
     "text": "Octave Kernel",
     "url": "https://github.com/Calysto/octave_kernel"
    },
    {
     "text": "MetaKernel Magics",
     "url": "https://github.com/calysto/metakernel/blob/master/metakernel/magics/README.md"
    }
   ],
   "mimetype": "text/x-octave",
   "name": "octave",
   "version": "4.2.1"
  }
 },
 "nbformat": 4,
 "nbformat_minor": 2
}
