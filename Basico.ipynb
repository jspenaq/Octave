{
 "cells": [
  {
   "cell_type": "markdown",
   "metadata": {},
   "source": [
    "# Introduction Octave"
   ]
  },
  {
   "cell_type": "markdown",
   "metadata": {},
   "source": [
    "**Octave version: 4.2.1**"
   ]
  },
  {
   "cell_type": "markdown",
   "metadata": {},
   "source": [
    "## Simple examples\n",
    "Si se escribe el nombre de una variable Octave imprimira esta variable si existe, para evitar que se imprima una variable se usa punto y coma (;) al final de la linea"
   ]
  },
  {
   "cell_type": "markdown",
   "metadata": {},
   "source": [
    "### Elementary Calculations\n",
    "- Octave permite operaciones aritmeticas basicas (+,-,*,/), exponenciacion (^), logaritmos naturales y exponenciales (log, exp) y funciones trigonometricas  (sen, cos, tan, …).\n",
    "- Ademas, Octave trabaja con numeros reales e imaginarios (i,j).\n",
    "- Tambien, hay constantes matematicas como $e$ y $pi$ ya predefinidas"
   ]
  },
  {
   "cell_type": "markdown",
   "metadata": {},
   "source": [
    "Verfificar la identidad de Euler: $e^{i*pi} = -1$"
   ]
  },
  {
   "cell_type": "code",
   "execution_count": 1,
   "metadata": {},
   "outputs": [
    {
     "name": "stdout",
     "output_type": "stream",
     "text": [
      "ans = -1.0000e+000 + 1.2246e-016i\n",
      "ans = -1.0000e+000 + 1.2246e-016i\n"
     ]
    }
   ],
   "source": [
    "e^(i*pi)\n",
    "exp(i*pi)"
   ]
  },
  {
   "cell_type": "markdown",
   "metadata": {},
   "source": [
    "Retorna -1 más la tolerancia del calculo."
   ]
  },
  {
   "cell_type": "markdown",
   "metadata": {},
   "source": [
    "### Creating a Matrix\n",
    "Octave usa una coma o un espacio para separar entradas en una fila, y punto y coma o enter para separar una fila de la siguiente."
   ]
  },
  {
   "cell_type": "code",
   "execution_count": 2,
   "metadata": {},
   "outputs": [
    {
     "name": "stdout",
     "output_type": "stream",
     "text": [
      "A =\n",
      "\n",
      "    1    1    2\n",
      "    3    5    8\n",
      "   13   21   34\n",
      "\n",
      "B =\n",
      "\n",
      "    1    1    2\n",
      "    3    5    8\n",
      "   13   21   34\n",
      "\n",
      "C =\n",
      "\n",
      "    1    1    2\n",
      "    3    5    8\n",
      "   13   21   34\n",
      "\n"
     ]
    }
   ],
   "source": [
    "A = [1, 1, 2; 3, 5, 8; 13, 21, 34]\n",
    "B = [1 1 2; 3 5 8; 13 21 34]\n",
    "C = [1 1 2\n",
    "3 5 8\n",
    "13 21 34]"
   ]
  },
  {
   "cell_type": "markdown",
   "metadata": {},
   "source": [
    "Matriz con elementos aleatorios:"
   ]
  },
  {
   "cell_type": "code",
   "execution_count": 3,
   "metadata": {},
   "outputs": [
    {
     "name": "stdout",
     "output_type": "stream",
     "text": [
      "D =\n",
      "\n",
      "   0.50473   0.45327\n",
      "   0.71912   0.15509\n",
      "   0.49324   0.75279\n",
      "\n"
     ]
    }
   ],
   "source": [
    "D = rand(3,2)"
   ]
  },
  {
   "cell_type": "markdown",
   "metadata": {},
   "source": [
    "### Matrix Arithmetic"
   ]
  },
  {
   "cell_type": "code",
   "execution_count": 4,
   "metadata": {},
   "outputs": [
    {
     "name": "stdout",
     "output_type": "stream",
     "text": [
      "B =\n",
      "\n",
      "    2    2    4\n",
      "    6   10   16\n",
      "   26   42   68\n",
      "\n"
     ]
    }
   ],
   "source": [
    "B = 2*B # Producto escalar"
   ]
  },
  {
   "cell_type": "code",
   "execution_count": 5,
   "metadata": {},
   "outputs": [
    {
     "name": "stdout",
     "output_type": "stream",
     "text": [
      "A =\n",
      "\n",
      "   1   1   1\n",
      "   1   1   1\n",
      "   1   1   1\n",
      "\n",
      "ans =\n",
      "\n",
      "   34   54   88\n",
      "   34   54   88\n",
      "   34   54   88\n",
      "\n"
     ]
    }
   ],
   "source": [
    "A = [1 1 1; 1 1 1; 1 1 1]\n",
    "A*B # Multiplicacion"
   ]
  },
  {
   "cell_type": "code",
   "execution_count": 6,
   "metadata": {},
   "outputs": [
    {
     "name": "stdout",
     "output_type": "stream",
     "text": [
      "C =\n",
      "\n",
      "    1    1    2\n",
      "    3    5    8\n",
      "   13   21   34\n",
      "\n",
      "C =\n",
      "\n",
      "    1    3   13\n",
      "    1    5   21\n",
      "    2    8   34\n",
      "\n"
     ]
    }
   ],
   "source": [
    "C\n",
    "C = C' # Transpuesta"
   ]
  },
  {
   "cell_type": "markdown",
   "metadata": {},
   "source": [
    "### Solving Systems of Linear Equations\n",
    "Para resolver ecuacion lineales de la forma $Ax = b$, usar el backslash (\\), esto equiivale a inv(A) * b.\n",
    "\n",
    "Resolver:\n",
    "\n",
    "$2x + y = 2$<br>\n",
    "$2y = 1$"
   ]
  },
  {
   "cell_type": "code",
   "execution_count": 12,
   "metadata": {},
   "outputs": [
    {
     "name": "stdout",
     "output_type": "stream",
     "text": [
      "x =\n",
      "\n",
      "   0.75000\n",
      "   0.50000\n",
      "\n"
     ]
    }
   ],
   "source": [
    "A = [ 2, 1; 0, 2 ];\n",
    "b = [ 2; 1 ];\n",
    "x = A \\ b"
   ]
  },
  {
   "cell_type": "markdown",
   "metadata": {},
   "source": [
    "### Help and Documentation"
   ]
  },
  {
   "cell_type": "code",
   "execution_count": 15,
   "metadata": {
    "scrolled": true
   },
   "outputs": [
    {
     "name": "stdout",
     "output_type": "stream",
     "text": [
      "'plot' is a function from the file C:\\Octave\\Octave-4.2.1\\share\\octave\\4.2.1\\m\\plot\\draw\\plot.m\n",
      "\n",
      " -- plot (Y)\n",
      " -- plot (X, Y)\n",
      " -- plot (X, Y, FMT)\n",
      " -- plot (..., PROPERTY, VALUE, ...)\n",
      " -- plot (X1, Y1, ..., XN, YN)\n",
      " -- plot (HAX, ...)\n",
      " -- H = plot (...)\n",
      "     Produce 2-D plots.\n",
      "\n",
      "     Many different combinations of arguments are possible.  The\n",
      "     simplest form is\n",
      "\n",
      "          plot (Y)\n",
      "\n",
      "     where the argument is taken as the set of Y coordinates and the X\n",
      "     coordinates are taken to be the range '1:numel (Y)'.\n",
      "\n",
      "     If more than one argument is given, they are interpreted as\n",
      "\n",
      "          plot (Y, PROPERTY, VALUE, ...)\n",
      "\n",
      "     or\n",
      "\n",
      "          plot (X, Y, PROPERTY, VALUE, ...)\n",
      "\n",
      "     or\n",
      "\n",
      "          plot (X, Y, FMT, ...)\n",
      "\n",
      "     and so on.  Any number of argument sets may appear.  The X and Y\n",
      "     values are interpreted as follows:\n",
      "\n",
      "        * If a single data argument is supplied, it is taken as the set\n",
      "          of Y coordinates and the X coordinates are taken to be the\n",
      "          indices of the elements, starting with 1.\n",
      "\n",
      "        * If X and Y are scalars, a single point is plotted.\n",
      "\n",
      "        * 'squeeze()' is applied to arguments with more than two\n",
      "          dimensions, but no more than two singleton dimensions.\n",
      "\n",
      "        * If both arguments are vectors, the elements of Y are plotted\n",
      "          versus the elements of X.\n",
      "\n",
      "        * If X is a vector and Y is a matrix, then the columns (or rows)\n",
      "          of Y are plotted versus X.  (using whichever combination\n",
      "          matches, with columns tried first.)\n",
      "\n",
      "        * If the X is a matrix and Y is a vector, Y is plotted versus\n",
      "          the columns (or rows) of X.  (using whichever combination\n",
      "          matches, with columns tried first.)\n",
      "\n",
      "        * If both arguments are matrices, the columns of Y are plotted\n",
      "          versus the columns of X.  In this case, both matrices must\n",
      "          have the same number of rows and columns and no attempt is\n",
      "          made to transpose the arguments to make the number of rows\n",
      "          match.\n",
      "\n",
      "     Multiple property-value pairs may be specified, but they must\n",
      "     appear in pairs.  These arguments are applied to the line objects\n",
      "     drawn by 'plot'.  Useful properties to modify are \"linestyle\",\n",
      "     \"linewidth\", \"color\", \"marker\", \"markersize\", \"markeredgecolor\",\n",
      "     \"markerfacecolor\".  *Note Line Properties::.\n",
      "\n",
      "     The FMT format argument can also be used to control the plot style.\n",
      "     It is a string composed of four optional parts:\n",
      "     \"<linestyle><marker><color><;displayname;>\".  When a marker is\n",
      "     specified, but no linestyle, only the markers are plotted.\n",
      "     Similarly, if a linestyle is specified, but no marker, then only\n",
      "     lines are drawn.  If both are specified then lines and markers will\n",
      "     be plotted.  If no FMT and no PROPERTY/VALUE pairs are given, then\n",
      "     the default plot style is solid lines with no markers and the color\n",
      "     determined by the \"colororder\" property of the current axes.\n",
      "\n",
      "     Format arguments:\n",
      "\n",
      "     linestyle\n",
      "\n",
      "          '-'  Use solid lines (default).\n",
      "          '--' Use dashed lines.\n",
      "          ':'  Use dotted lines.\n",
      "          '-.' Use dash-dotted lines.\n",
      "\n",
      "     marker\n",
      "\n",
      "          '+'  crosshair\n",
      "          'o'  circle\n",
      "          '*'  star\n",
      "          '.'  point\n",
      "          'x'  cross\n",
      "          's'  square\n",
      "          'd'  diamond\n",
      "          '^'  upward-facing triangle\n",
      "          'v'  downward-facing triangle\n",
      "          '>'  right-facing triangle\n",
      "          '<'  left-facing triangle\n",
      "          'p'  pentagram\n",
      "          'h'  hexagram\n",
      "\n",
      "     color\n",
      "\n",
      "          'k'  blacK\n",
      "          'r'  Red\n",
      "          'g'  Green\n",
      "          'b'  Blue\n",
      "          'y'  Yellow\n",
      "          'm'  Magenta\n",
      "          'c'  Cyan\n",
      "          'w'  White\n",
      "\n",
      "     \";displayname;\"\n",
      "          Here \"displayname\" is the label to use for the plot legend.\n",
      "\n",
      "     The FMT argument may also be used to assign legend labels.  To do\n",
      "     so, include the desired label between semicolons after the\n",
      "     formatting sequence described above, e.g., \"+b;Key Title;\".  Note\n",
      "     that the last semicolon is required and Octave will generate an\n",
      "     error if it is left out.\n",
      "\n",
      "     Here are some plot examples:\n",
      "\n",
      "          plot (x, y, \"or\", x, y2, x, y3, \"m\", x, y4, \"+\")\n",
      "\n",
      "     This command will plot 'y' with red circles, 'y2' with solid lines,\n",
      "     'y3' with solid magenta lines, and 'y4' with points displayed as\n",
      "     '+'.\n",
      "\n",
      "          plot (b, \"*\", \"markersize\", 10)\n",
      "\n",
      "     This command will plot the data in the variable 'b', with points\n",
      "     displayed as '*' and a marker size of 10.\n",
      "\n",
      "          t = 0:0.1:6.3;\n",
      "          plot (t, cos(t), \"-;cos(t);\", t, sin(t), \"-b;sin(t);\");\n",
      "\n",
      "     This will plot the cosine and sine functions and label them\n",
      "     accordingly in the legend.\n",
      "\n",
      "     If the first argument HAX is an axes handle, then plot into this\n",
      "     axis, rather than the current axes returned by 'gca'.\n",
      "\n",
      "     The optional return value H is a vector of graphics handles to the\n",
      "     created line objects.\n",
      "\n",
      "     To save a plot, in one of several image formats such as PostScript\n",
      "     or PNG, use the 'print' command.\n",
      "\n",
      "     See also: axis, box, grid, hold, legend, title, xlabel, ylabel,\n",
      "     xlim, ylim, ezplot, errorbar, fplot, line, plot3, polar, loglog,\n",
      "     semilogx, semilogy, subplot.\n",
      "\n",
      "Additional help for built-in functions and operators is\n",
      "available in the online version of the manual.  Use the command\n",
      "'doc <topic>' to search the manual index.\n",
      "\n",
      "Help and information about Octave is also available on the WWW\n",
      "at http://www.octave.org and via the help@octave.org\n",
      "mailing list.\n"
     ]
    }
   ],
   "source": [
    "help plot"
   ]
  },
  {
   "cell_type": "code",
   "execution_count": null,
   "metadata": {},
   "outputs": [],
   "source": []
  }
 ],
 "metadata": {
  "kernelspec": {
   "display_name": "Octave",
   "language": "octave",
   "name": "octave"
  },
  "language_info": {
   "file_extension": ".m",
   "help_links": [
    {
     "text": "GNU Octave",
     "url": "https://www.gnu.org/software/octave/support.html"
    },
    {
     "text": "Octave Kernel",
     "url": "https://github.com/Calysto/octave_kernel"
    },
    {
     "text": "MetaKernel Magics",
     "url": "https://github.com/calysto/metakernel/blob/master/metakernel/magics/README.md"
    }
   ],
   "mimetype": "text/x-octave",
   "name": "octave",
   "version": "4.2.1"
  }
 },
 "nbformat": 4,
 "nbformat_minor": 2
}
